{
 "cells": [
  {
   "cell_type": "code",
   "execution_count": 13,
   "id": "b25ab57f-1369-434b-85a8-59bf6ff67dff",
   "metadata": {
    "colab": {
     "base_uri": "https://localhost:8080/"
    },
    "executionInfo": {
     "elapsed": 2069,
     "status": "ok",
     "timestamp": 1639314788020,
     "user": {
      "displayName": "ANDREA FAILLA",
      "photoUrl": "https://lh3.googleusercontent.com/a/default-user=s64",
      "userId": "15740887771468045244"
     },
     "user_tz": -60
    },
    "id": "b25ab57f-1369-434b-85a8-59bf6ff67dff",
    "outputId": "a4252b8b-9ada-4cfb-a874-f56e7857a25f"
   },
   "outputs": [
    {
     "name": "stdout",
     "output_type": "stream",
     "text": [
      "Drive already mounted at /content/drive; to attempt to forcibly remount, call drive.mount(\"/content/drive\", force_remount=True).\n"
     ]
    }
   ],
   "source": [
    "import pandas as pd\n",
    "import numpy as np\n",
    "import nltk\n",
    "from nltk.sentiment import SentimentIntensityAnalyzer\n",
    "from tqdm.notebook import tqdm\n",
    "import pickle\n",
    "#!pip install -U feel-it\n",
    "import gensim\n",
    "import torch\n",
    "from feel_it import EmotionClassifier, SentimentClassifier\n",
    "import numpy as np \n",
    "from transformers import AutoTokenizer, AutoModelForSequenceClassification\n",
    "from google.colab import drive\n",
    "drive.mount('/content/drive')"
   ]
  },
  {
   "cell_type": "code",
   "execution_count": 14,
   "id": "467320c0-ebb9-4381-9978-5e5436a40c98",
   "metadata": {
    "executionInfo": {
     "elapsed": 3,
     "status": "ok",
     "timestamp": 1639314788894,
     "user": {
      "displayName": "ANDREA FAILLA",
      "photoUrl": "https://lh3.googleusercontent.com/a/default-user=s64",
      "userId": "15740887771468045244"
     },
     "user_tz": -60
    },
    "id": "467320c0-ebb9-4381-9978-5e5436a40c98"
   },
   "outputs": [],
   "source": [
    "dtypes = {\n",
    "    'Username' : str,\n",
    "    'Tweet': str,\n",
    "    'Reply to': str,\n",
    "    'Participants' : object,\n",
    "    'Hashtags': object,\n",
    "    'Date': str,\n",
    "    'nLikes': int,\t\n",
    "    'nReplies': int,\t\n",
    "    'nRetweets': int\n",
    "}"
   ]
  },
  {
   "cell_type": "code",
   "execution_count": 15,
   "id": "8e382426-0b7e-4871-a8f1-5c87f57e6f2b",
   "metadata": {
    "executionInfo": {
     "elapsed": 334,
     "status": "ok",
     "timestamp": 1639314791912,
     "user": {
      "displayName": "ANDREA FAILLA",
      "photoUrl": "https://lh3.googleusercontent.com/a/default-user=s64",
      "userId": "15740887771468045244"
     },
     "user_tz": -60
    },
    "id": "8e382426-0b7e-4871-a8f1-5c87f57e6f2b"
   },
   "outputs": [],
   "source": [
    "data = []\n",
    "for politician in ['conte', 'letta', 'meloni', 'salvini']:\n",
    "    filename = '/content/drive/MyDrive/Broken Mirror/data/' + politician + '.json'\n",
    "    data_ = pd.read_json(filename, dtype=dtypes)\n",
    "    data.append(data_)\n",
    "df = pd.concat(data)\n",
    "    "
   ]
  },
  {
   "cell_type": "code",
   "execution_count": 16,
   "id": "d07e248f-500f-4c62-89da-2d3cd278eb20",
   "metadata": {
    "executionInfo": {
     "elapsed": 3,
     "status": "ok",
     "timestamp": 1639314792173,
     "user": {
      "displayName": "ANDREA FAILLA",
      "photoUrl": "https://lh3.googleusercontent.com/a/default-user=s64",
      "userId": "15740887771468045244"
     },
     "user_tz": -60
    },
    "id": "d07e248f-500f-4c62-89da-2d3cd278eb20"
   },
   "outputs": [],
   "source": [
    "df.Username.replace('GiuseppeConteIT', 'C', inplace=True)\n",
    "df.Username.replace('EnricoLetta', 'L', inplace=True)\n",
    "df.Username.replace('GiorgiaMeloni', 'M', inplace=True)\n",
    "df.Username.replace('matteosalvinimi', 'S', inplace=True)\n",
    "df.replace('None', np.nan, inplace=True) \n",
    "df.fillna(value=np.nan, inplace=True) \n",
    "df.reset_index(drop=True, inplace=True)"
   ]
  },
  {
   "cell_type": "code",
   "execution_count": 17,
   "id": "c8dfa5df-da33-461d-989e-43386ad2665b",
   "metadata": {
    "colab": {
     "base_uri": "https://localhost:8080/",
     "height": 201
    },
    "executionInfo": {
     "elapsed": 8,
     "status": "ok",
     "timestamp": 1639314793464,
     "user": {
      "displayName": "ANDREA FAILLA",
      "photoUrl": "https://lh3.googleusercontent.com/a/default-user=s64",
      "userId": "15740887771468045244"
     },
     "user_tz": -60
    },
    "id": "c8dfa5df-da33-461d-989e-43386ad2665b",
    "outputId": "3be61988-ccc9-4706-c4ed-6ad7bfeca6a8"
   },
   "outputs": [
    {
     "data": {
      "text/html": [
       "<div>\n",
       "<style scoped>\n",
       "    .dataframe tbody tr th:only-of-type {\n",
       "        vertical-align: middle;\n",
       "    }\n",
       "\n",
       "    .dataframe tbody tr th {\n",
       "        vertical-align: top;\n",
       "    }\n",
       "\n",
       "    .dataframe thead th {\n",
       "        text-align: right;\n",
       "    }\n",
       "</style>\n",
       "<table border=\"1\" class=\"dataframe\">\n",
       "  <thead>\n",
       "    <tr style=\"text-align: right;\">\n",
       "      <th></th>\n",
       "      <th>Username</th>\n",
       "      <th>Tweet</th>\n",
       "      <th>Reply to</th>\n",
       "      <th>Participants</th>\n",
       "      <th>Hashtags</th>\n",
       "      <th>Date</th>\n",
       "      <th>nLikes</th>\n",
       "      <th>nReplies</th>\n",
       "      <th>nRetweets</th>\n",
       "    </tr>\n",
       "  </thead>\n",
       "  <tbody>\n",
       "    <tr>\n",
       "      <th>0</th>\n",
       "      <td>C</td>\n",
       "      <td>A partire da oggi scattano alcune novità che m...</td>\n",
       "      <td>NaN</td>\n",
       "      <td>NaN</td>\n",
       "      <td>[]</td>\n",
       "      <td>2020-07-01 19:20:21</td>\n",
       "      <td>2153</td>\n",
       "      <td>955</td>\n",
       "      <td>333</td>\n",
       "    </tr>\n",
       "    <tr>\n",
       "      <th>1</th>\n",
       "      <td>C</td>\n",
       "      <td>Complimenti alla nostra @GDF per la maxi-opera...</td>\n",
       "      <td>NaN</td>\n",
       "      <td>NaN</td>\n",
       "      <td>[]</td>\n",
       "      <td>2020-07-01 13:38:24</td>\n",
       "      <td>3577</td>\n",
       "      <td>317</td>\n",
       "      <td>472</td>\n",
       "    </tr>\n",
       "    <tr>\n",
       "      <th>2</th>\n",
       "      <td>C</td>\n",
       "      <td>Un bimbo per strada mi ha chiesto se riuscirò ...</td>\n",
       "      <td>NaN</td>\n",
       "      <td>NaN</td>\n",
       "      <td>[]</td>\n",
       "      <td>2020-07-02 17:58:18</td>\n",
       "      <td>7711</td>\n",
       "      <td>2104</td>\n",
       "      <td>974</td>\n",
       "    </tr>\n",
       "    <tr>\n",
       "      <th>3</th>\n",
       "      <td>C</td>\n",
       "      <td>Una icona italiana abbraccia la transizione en...</td>\n",
       "      <td>NaN</td>\n",
       "      <td>NaN</td>\n",
       "      <td>[fiat500]</td>\n",
       "      <td>2020-07-03 18:41:38</td>\n",
       "      <td>3382</td>\n",
       "      <td>422</td>\n",
       "      <td>441</td>\n",
       "    </tr>\n",
       "    <tr>\n",
       "      <th>4</th>\n",
       "      <td>C</td>\n",
       "      <td>Our hearts and minds today are more than ever ...</td>\n",
       "      <td>NaN</td>\n",
       "      <td>NaN</td>\n",
       "      <td>[independenceday]</td>\n",
       "      <td>2020-07-04 17:58:48</td>\n",
       "      <td>3015</td>\n",
       "      <td>444</td>\n",
       "      <td>316</td>\n",
       "    </tr>\n",
       "  </tbody>\n",
       "</table>\n",
       "</div>"
      ],
      "text/plain": [
       "  Username  ... nRetweets\n",
       "0        C  ...       333\n",
       "1        C  ...       472\n",
       "2        C  ...       974\n",
       "3        C  ...       441\n",
       "4        C  ...       316\n",
       "\n",
       "[5 rows x 9 columns]"
      ]
     },
     "execution_count": 17,
     "metadata": {},
     "output_type": "execute_result"
    }
   ],
   "source": [
    "df.head()"
   ]
  },
  {
   "cell_type": "code",
   "execution_count": 11,
   "id": "5f5f0c20-fac3-4023-8657-1919bc1acf36",
   "metadata": {
    "executionInfo": {
     "elapsed": 241,
     "status": "ok",
     "timestamp": 1639314658552,
     "user": {
      "displayName": "ANDREA FAILLA",
      "photoUrl": "https://lh3.googleusercontent.com/a/default-user=s64",
      "userId": "15740887771468045244"
     },
     "user_tz": -60
    },
    "id": "5f5f0c20-fac3-4023-8657-1919bc1acf36"
   },
   "outputs": [],
   "source": []
  },
  {
   "cell_type": "code",
   "execution_count": 19,
   "id": "d37f39fb-42e4-4d03-a180-13d1517112d0",
   "metadata": {
    "executionInfo": {
     "elapsed": 8293,
     "status": "ok",
     "timestamp": 1639314808956,
     "user": {
      "displayName": "ANDREA FAILLA",
      "photoUrl": "https://lh3.googleusercontent.com/a/default-user=s64",
      "userId": "15740887771468045244"
     },
     "user_tz": -60
    },
    "id": "d37f39fb-42e4-4d03-a180-13d1517112d0"
   },
   "outputs": [],
   "source": [
    "emotion_classifier = EmotionClassifier()\n",
    "sentiment_classifier = SentimentClassifier()"
   ]
  },
  {
   "cell_type": "code",
   "execution_count": 20,
   "id": "30f5c980-8d87-453d-ae64-134bb12f0cb2",
   "metadata": {
    "executionInfo": {
     "elapsed": 4201,
     "status": "ok",
     "timestamp": 1639314833311,
     "user": {
      "displayName": "ANDREA FAILLA",
      "photoUrl": "https://lh3.googleusercontent.com/a/default-user=s64",
      "userId": "15740887771468045244"
     },
     "user_tz": -60
    },
    "id": "30f5c980-8d87-453d-ae64-134bb12f0cb2"
   },
   "outputs": [],
   "source": [
    "# Load model and tokenizer\n",
    "tokenizer = AutoTokenizer.from_pretrained(\"MilaNLProc/feel-it-italian-sentiment\")\n",
    "model = AutoModelForSequenceClassification.from_pretrained(\"MilaNLProc/feel-it-italian-sentiment\")\n",
    "\n",
    "def sentiment_class(tweet):\n",
    "  sentence = tweet\n",
    "  inputs = tokenizer(sentence, return_tensors=\"pt\")\n",
    "\n",
    "# Call the model and get the logits\n",
    "  labels = torch.tensor([1]).unsqueeze(0)  # Batch size 1\n",
    "  outputs = model(**inputs, labels=labels)\n",
    "  loss, logits = outputs[:2]\n",
    "  logits = logits.squeeze(0)\n",
    "\n",
    "# Extract probabilities\n",
    "  proba = torch.nn.functional.softmax(logits, dim=0)\n",
    "\n",
    "# Unpack the tensor to obtain negative and positive probabilities\n",
    "  negative, positive = proba\n",
    "  negativeP = np.round(negative.item(), 4)\n",
    "  positiveP = np.round(positive.item(), 4)\n",
    "  print(f\"Probabilities: Negative {np.round(negative.item(),4)} - Positive {np.round(positive.item(),4)}\")\n",
    "  return [negativeP, positiveP]"
   ]
  },
  {
   "cell_type": "code",
   "execution_count": null,
   "id": "d102855a-e327-4cb5-a418-a375cc808317",
   "metadata": {
    "id": "d102855a-e327-4cb5-a418-a375cc808317"
   },
   "outputs": [],
   "source": [
    "df['neg'], df['pos'] = zip(*df['Tweet'].apply(sentiment_class))\n"
   ]
  },
  {
   "cell_type": "code",
   "execution_count": 22,
   "id": "e8606794-e71f-47ee-aea6-68490cbc5a48",
   "metadata": {
    "executionInfo": {
     "elapsed": 5097,
     "status": "ok",
     "timestamp": 1639317409093,
     "user": {
      "displayName": "ANDREA FAILLA",
      "photoUrl": "https://lh3.googleusercontent.com/a/default-user=s64",
      "userId": "15740887771468045244"
     },
     "user_tz": -60
    },
    "id": "e8606794-e71f-47ee-aea6-68490cbc5a48"
   },
   "outputs": [],
   "source": [
    "tokenizer = AutoTokenizer.from_pretrained(\"MilaNLProc/feel-it-italian-emotion\")\n",
    "\n",
    "model = AutoModelForSequenceClassification.from_pretrained(\"MilaNLProc/feel-it-italian-emotion\")\n",
    "\n",
    "def emotion_class(tweet):\n",
    "  sentence = tweet\n",
    "  inputs = tokenizer(sentence, return_tensors=\"pt\")\n",
    "\n",
    "  # Call the model and get the logits\n",
    "  labels = torch.tensor([1]).unsqueeze(0)  # Batch size 1\n",
    "  outputs = model(**inputs, labels=labels)\n",
    "  loss, logits = outputs[:2]\n",
    "  logits = logits.squeeze(0)\n",
    "\n",
    "  # Extract probabilities\n",
    "  proba = torch.nn.functional.softmax(logits, dim=0)\n",
    "  proba = np.array(proba.detach().numpy())\n",
    "\n",
    "  # Obtain emotion probabilities (sorted)\n",
    "  label_names = ['anger', 'fear', 'joy', 'sadness']\n",
    "  ranking = np.argsort(proba)\n",
    "  ranking = ranking[::-1]\n",
    "  for i in range(proba.shape[0]):\n",
    "      l = label_names[ranking[i]]\n",
    "      s = proba[ranking[i]]\n",
    "      print(f\"{l} {np.round(float(s), 4)}\")\n",
    "  return label_names[ranking[0]]"
   ]
  },
  {
   "cell_type": "code",
   "execution_count": null,
   "id": "OmNm4GHKyKni",
   "metadata": {
    "id": "OmNm4GHKyKni"
   },
   "outputs": [],
   "source": [
    "df[\"Emotion\"] = df['Tweet'].apply(emotion_class)"
   ]
  },
  {
   "cell_type": "code",
   "execution_count": 24,
   "id": "womsZtyGyKlg",
   "metadata": {
    "executionInfo": {
     "elapsed": 357,
     "status": "ok",
     "timestamp": 1639319971272,
     "user": {
      "displayName": "ANDREA FAILLA",
      "photoUrl": "https://lh3.googleusercontent.com/a/default-user=s64",
      "userId": "15740887771468045244"
     },
     "user_tz": -60
    },
    "id": "womsZtyGyKlg"
   },
   "outputs": [],
   "source": [
    "def set_polarity(neg, pos):\n",
    "    if neg>pos:\n",
    "        value = \"neg\"\n",
    "    elif neg < pos:\n",
    "        value =\"pos\"\n",
    "    else:\n",
    "        value =\"neutral\"\n",
    "    return myvalue\n",
    "df['Polarity'] = df.apply(lambda x: set_polarity(x['neg'], x['pos']), axis=1)\n"
   ]
  },
  {
   "cell_type": "code",
   "execution_count": 28,
   "id": "tLAZOPZxyKiR",
   "metadata": {
    "executionInfo": {
     "elapsed": 240,
     "status": "ok",
     "timestamp": 1639320374075,
     "user": {
      "displayName": "ANDREA FAILLA",
      "photoUrl": "https://lh3.googleusercontent.com/a/default-user=s64",
      "userId": "15740887771468045244"
     },
     "user_tz": -60
    },
    "id": "tLAZOPZxyKiR"
   },
   "outputs": [],
   "source": [
    "df.drop(['pos', 'neg'], axis=1, inplace=True)"
   ]
  },
  {
   "cell_type": "code",
   "execution_count": 30,
   "id": "gdmU2X01yKbX",
   "metadata": {
    "executionInfo": {
     "elapsed": 274,
     "status": "ok",
     "timestamp": 1639320712673,
     "user": {
      "displayName": "ANDREA FAILLA",
      "photoUrl": "https://lh3.googleusercontent.com/a/default-user=s64",
      "userId": "15740887771468045244"
     },
     "user_tz": -60
    },
    "id": "gdmU2X01yKbX"
   },
   "outputs": [],
   "source": [
    "df.to_json('brokenmirror-sentiment.json')"
   ]
  },
  {
   "cell_type": "code",
   "execution_count": null,
   "id": "ad906865-a155-412b-a289-2274e462b98b",
   "metadata": {
    "id": "ad906865-a155-412b-a289-2274e462b98b"
   },
   "outputs": [],
   "source": []
  },
  {
   "cell_type": "code",
   "execution_count": null,
   "id": "846cb4a9-3f01-4a74-ae67-d8b2a082198f",
   "metadata": {
    "id": "846cb4a9-3f01-4a74-ae67-d8b2a082198f"
   },
   "outputs": [],
   "source": []
  },
  {
   "cell_type": "code",
   "execution_count": null,
   "id": "0045147d-487c-46cf-be8f-230f48c82dcf",
   "metadata": {},
   "outputs": [],
   "source": []
  },
  {
   "cell_type": "code",
   "execution_count": null,
   "id": "28b65831-c40e-42f3-894a-cd4ee55d1880",
   "metadata": {},
   "outputs": [],
   "source": []
  }
 ],
 "metadata": {
  "colab": {
   "collapsed_sections": [],
   "name": "Untitled.ipynb",
   "provenance": []
  },
  "kernelspec": {
   "display_name": "Python 3",
   "language": "python",
   "name": "python3"
  },
  "language_info": {
   "codemirror_mode": {
    "name": "ipython",
    "version": 3
   },
   "file_extension": ".py",
   "mimetype": "text/x-python",
   "name": "python",
   "nbconvert_exporter": "python",
   "pygments_lexer": "ipython3",
   "version": "3.8.8"
  }
 },
 "nbformat": 4,
 "nbformat_minor": 5
}
