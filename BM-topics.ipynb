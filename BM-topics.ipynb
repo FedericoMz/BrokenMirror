{
 "cells": [
  {
   "cell_type": "code",
   "execution_count": 2,
   "id": "b25ab57f-1369-434b-85a8-59bf6ff67dff",
   "metadata": {},
   "outputs": [],
   "source": [
    "import pandas as pd\n",
    "import numpy as np\n",
    "import nltk\n",
    "from tqdm.notebook import tqdm"
   ]
  },
  {
   "cell_type": "code",
   "execution_count": 2,
   "id": "467320c0-ebb9-4381-9978-5e5436a40c98",
   "metadata": {},
   "outputs": [],
   "source": [
    "dtypes = {\n",
    "    'Username' : str,\n",
    "    'Tweet': str,\n",
    "    'Reply to': str,\n",
    "    'Participants' : object,\n",
    "    'Hashtags': object,\n",
    "    'Date': str,\n",
    "    'nLikes': int,\t\n",
    "    'nReplies': int,\t\n",
    "    'nRetweets': int,\n",
    "    'Emotion': str, \n",
    "    'Polarity': str\n",
    "}"
   ]
  },
  {
   "cell_type": "code",
   "execution_count": 3,
   "id": "8e382426-0b7e-4871-a8f1-5c87f57e6f2b",
   "metadata": {},
   "outputs": [],
   "source": [
    "df = pd.read_json('data/brokenmirror-sentiment.json', dtype=dtypes)"
   ]
  },
  {
   "cell_type": "code",
   "execution_count": 4,
   "id": "c8dfa5df-da33-461d-989e-43386ad2665b",
   "metadata": {},
   "outputs": [
    {
     "data": {
      "text/html": [
       "<div>\n",
       "<style scoped>\n",
       "    .dataframe tbody tr th:only-of-type {\n",
       "        vertical-align: middle;\n",
       "    }\n",
       "\n",
       "    .dataframe tbody tr th {\n",
       "        vertical-align: top;\n",
       "    }\n",
       "\n",
       "    .dataframe thead th {\n",
       "        text-align: right;\n",
       "    }\n",
       "</style>\n",
       "<table border=\"1\" class=\"dataframe\">\n",
       "  <thead>\n",
       "    <tr style=\"text-align: right;\">\n",
       "      <th></th>\n",
       "      <th>Username</th>\n",
       "      <th>Tweet</th>\n",
       "      <th>Reply to</th>\n",
       "      <th>Participants</th>\n",
       "      <th>Hashtags</th>\n",
       "      <th>Date</th>\n",
       "      <th>nLikes</th>\n",
       "      <th>nReplies</th>\n",
       "      <th>nRetweets</th>\n",
       "      <th>Emotion</th>\n",
       "      <th>Polarity</th>\n",
       "    </tr>\n",
       "  </thead>\n",
       "  <tbody>\n",
       "    <tr>\n",
       "      <th>0</th>\n",
       "      <td>C</td>\n",
       "      <td>A partire da oggi scattano alcune novità che m...</td>\n",
       "      <td>None</td>\n",
       "      <td>None</td>\n",
       "      <td>[]</td>\n",
       "      <td>2020-07-01 19:20:21</td>\n",
       "      <td>2153</td>\n",
       "      <td>955</td>\n",
       "      <td>333</td>\n",
       "      <td>sadness</td>\n",
       "      <td>pos</td>\n",
       "    </tr>\n",
       "    <tr>\n",
       "      <th>1</th>\n",
       "      <td>C</td>\n",
       "      <td>Complimenti alla nostra @GDF per la maxi-opera...</td>\n",
       "      <td>None</td>\n",
       "      <td>None</td>\n",
       "      <td>[]</td>\n",
       "      <td>2020-07-01 13:38:24</td>\n",
       "      <td>3577</td>\n",
       "      <td>317</td>\n",
       "      <td>472</td>\n",
       "      <td>fear</td>\n",
       "      <td>neg</td>\n",
       "    </tr>\n",
       "    <tr>\n",
       "      <th>2</th>\n",
       "      <td>C</td>\n",
       "      <td>Un bimbo per strada mi ha chiesto se riuscirò ...</td>\n",
       "      <td>None</td>\n",
       "      <td>None</td>\n",
       "      <td>[]</td>\n",
       "      <td>2020-07-02 17:58:18</td>\n",
       "      <td>7711</td>\n",
       "      <td>2104</td>\n",
       "      <td>974</td>\n",
       "      <td>sadness</td>\n",
       "      <td>pos</td>\n",
       "    </tr>\n",
       "    <tr>\n",
       "      <th>3</th>\n",
       "      <td>C</td>\n",
       "      <td>Una icona italiana abbraccia la transizione en...</td>\n",
       "      <td>None</td>\n",
       "      <td>None</td>\n",
       "      <td>[fiat500]</td>\n",
       "      <td>2020-07-03 18:41:38</td>\n",
       "      <td>3382</td>\n",
       "      <td>422</td>\n",
       "      <td>441</td>\n",
       "      <td>joy</td>\n",
       "      <td>pos</td>\n",
       "    </tr>\n",
       "    <tr>\n",
       "      <th>4</th>\n",
       "      <td>C</td>\n",
       "      <td>Our hearts and minds today are more than ever ...</td>\n",
       "      <td>None</td>\n",
       "      <td>None</td>\n",
       "      <td>[independenceday]</td>\n",
       "      <td>2020-07-04 17:58:48</td>\n",
       "      <td>3015</td>\n",
       "      <td>444</td>\n",
       "      <td>316</td>\n",
       "      <td>joy</td>\n",
       "      <td>pos</td>\n",
       "    </tr>\n",
       "  </tbody>\n",
       "</table>\n",
       "</div>"
      ],
      "text/plain": [
       "  Username                                              Tweet Reply to  \\\n",
       "0        C  A partire da oggi scattano alcune novità che m...     None   \n",
       "1        C  Complimenti alla nostra @GDF per la maxi-opera...     None   \n",
       "2        C  Un bimbo per strada mi ha chiesto se riuscirò ...     None   \n",
       "3        C  Una icona italiana abbraccia la transizione en...     None   \n",
       "4        C  Our hearts and minds today are more than ever ...     None   \n",
       "\n",
       "  Participants           Hashtags                 Date  nLikes  nReplies  \\\n",
       "0         None                 []  2020-07-01 19:20:21    2153       955   \n",
       "1         None                 []  2020-07-01 13:38:24    3577       317   \n",
       "2         None                 []  2020-07-02 17:58:18    7711      2104   \n",
       "3         None          [fiat500]  2020-07-03 18:41:38    3382       422   \n",
       "4         None  [independenceday]  2020-07-04 17:58:48    3015       444   \n",
       "\n",
       "   nRetweets  Emotion Polarity  \n",
       "0        333  sadness      pos  \n",
       "1        472     fear      neg  \n",
       "2        974  sadness      pos  \n",
       "3        441      joy      pos  \n",
       "4        316      joy      pos  "
      ]
     },
     "execution_count": 4,
     "metadata": {},
     "output_type": "execute_result"
    }
   ],
   "source": [
    "df.head()"
   ]
  },
  {
   "cell_type": "markdown",
   "id": "5a580627-2f9b-474a-9d89-e31b344c542a",
   "metadata": {},
   "source": [
    "#### Functions to save and load MGP models"
   ]
  },
  {
   "cell_type": "code",
   "execution_count": 24,
   "id": "743d5d3e-317d-42e0-94ed-5b0095964482",
   "metadata": {},
   "outputs": [],
   "source": [
    "import os\n",
    "import pickle\n",
    "def save_mgp(mgp, version, directory='models'):\n",
    "    if not os.path.isdir(directory):\n",
    "        os.mkdir(directory)\n",
    "        print(f\"Directory {directory} created\")\n",
    "    k = str(mgp.K).replace(\".\",\"\")\n",
    "    alpha = str(mgp.alpha).replace(\".\",\"\")\n",
    "    beta = str(mgp.beta).replace(\".\",\"\")\n",
    "    n_iters = mgp.n_iters\n",
    "    \n",
    "    filename = f'{directory}/K{k}a{alpha}b{beta}i{n_iters}-{version}.model' \n",
    "    if not os.path.isfile(filename):\n",
    "        with open(filename, 'wb') as file:\n",
    "            pickle.dump(mgp, file)\n",
    "        print('Model saved:', filename)\n",
    "    else:\n",
    "        print('File already exists:', filename)\n",
    "def load_mgp(filename):\n",
    "    if os.path.isfile(filename):\n",
    "        mgp = ''\n",
    "        with open(filename, 'rb') as file:\n",
    "            mgp = pickle.load(file)\n",
    "        print('Model loaded:', filename)\n",
    "        return mgp\n",
    "    else:\n",
    "        print('File does not exist:', filename)\n"
   ]
  },
  {
   "cell_type": "markdown",
   "id": "864e4005-4786-4aae-9658-2f8bdcc7fb9c",
   "metadata": {},
   "source": [
    "#### Functions for MGP models"
   ]
  },
  {
   "cell_type": "code",
   "execution_count": 6,
   "id": "44fe690f-9332-4a6d-a7f8-bf37692dd755",
   "metadata": {},
   "outputs": [],
   "source": [
    "from gsdmm.gsdmm import MovieGroupProcess\n",
    "\n",
    "def top_words(cluster_word_distribution, top_cluster, values):\n",
    "    '''prints the top words in each cluster'''\n",
    "    for cluster in top_cluster:\n",
    "        sort_dicts =sorted(mgp.cluster_word_distribution[cluster].items(), key=lambda k: k[1], reverse=True)[:values]\n",
    "        print('Cluster %s : %s'%(cluster,sort_dicts))\n",
    "        print(' — — — — — — — — —')\n",
    "        \n",
    "def model_info(mgp):\n",
    "    \"\"\"prints info about the model\"\"\"\n",
    "    doc_count = np.array(mgp.cluster_doc_count)\n",
    "    print('Number of documents per topic :', doc_count)\n",
    "    print('*'*20)\n",
    "    # topics sorted by the number of documents they are allocated to\n",
    "    top_index = doc_count.argsort()[-10:][::-1]\n",
    "    print('Most important clusters (by number of docs inside):',   \n",
    "           top_index)\n",
    "    print('*'*20)\n",
    "    # show the top 5 words in term frequency for each cluster \n",
    "    topic_indices = np.arange(start=0, stop=len(doc_count), step=1)\n",
    "    top_words(mgp.cluster_word_distribution, topic_indices, 10)\n",
    "\n",
    "def set_topic_names(topic_names, topic_indices):\n",
    "    \"\"\"returns a dict topiv_index : topic_name\"\"\"\n",
    "    topic_dict = {}\n",
    "    for i, topic_num in enumerate(topic_indices):\n",
    "         topic_dict[topic_num]=topic_names[i]\n",
    "    return topic_dict"
   ]
  },
  {
   "cell_type": "markdown",
   "id": "6f43e0c9-a326-4965-85d2-ac629881095c",
   "metadata": {},
   "source": [
    "#### Tweet preprocessing"
   ]
  },
  {
   "cell_type": "code",
   "execution_count": 36,
   "id": "c0a8ba67-585f-4013-a070-903fafbcc901",
   "metadata": {},
   "outputs": [],
   "source": [
    "#pip install pretwita\n",
    "from pretwita import PreTwITA as PTW\n",
    "def tokenize_and_clean(tweet):\n",
    "    sw = ['\\u2066\\u2069', 'lega', 'italiani'] \n",
    "    ptw = PTW(tweet).clean(placeholder=False, \n",
    "                           additional_stopwords=sw, \n",
    "                           keep_dates=False)\n",
    "    return ptw.get_tokens()"
   ]
  },
  {
   "cell_type": "code",
   "execution_count": 37,
   "id": "46a01069-8552-4d3e-8e1a-6f25db445669",
   "metadata": {},
   "outputs": [],
   "source": [
    "df['Tokens'] = df.Tweet.apply(tokenize_and_clean)"
   ]
  },
  {
   "cell_type": "markdown",
   "id": "8466cc07-eb39-47be-b728-f502726663d2",
   "metadata": {},
   "source": [
    "#### MGP model"
   ]
  },
  {
   "cell_type": "code",
   "execution_count": 41,
   "id": "96a65eee-ed5c-4105-8505-c41b5bfbce8f",
   "metadata": {},
   "outputs": [],
   "source": [
    "params = {\n",
    "    \"K\":10, # number of topics\n",
    "    \"alpha\":0.1, # completeness\n",
    "    \"beta\":0.1, # homogeneity\n",
    "    \"n_iters\":20 # number of tranfers\n",
    "}"
   ]
  },
  {
   "cell_type": "code",
   "execution_count": 42,
   "id": "55962629-6610-490e-9f2f-15a1b2f9c24e",
   "metadata": {},
   "outputs": [
    {
     "name": "stdout",
     "output_type": "stream",
     "text": [
      "In stage 0: transferred 7654 clusters with 10 clusters populated\n",
      "In stage 1: transferred 4594 clusters with 10 clusters populated\n",
      "In stage 2: transferred 3098 clusters with 10 clusters populated\n",
      "In stage 3: transferred 2261 clusters with 10 clusters populated\n",
      "In stage 4: transferred 1820 clusters with 10 clusters populated\n",
      "In stage 5: transferred 1517 clusters with 10 clusters populated\n",
      "In stage 6: transferred 1294 clusters with 10 clusters populated\n",
      "In stage 7: transferred 1155 clusters with 10 clusters populated\n",
      "In stage 8: transferred 1083 clusters with 10 clusters populated\n",
      "In stage 9: transferred 1073 clusters with 10 clusters populated\n",
      "In stage 10: transferred 1072 clusters with 10 clusters populated\n",
      "In stage 11: transferred 1047 clusters with 10 clusters populated\n",
      "In stage 12: transferred 1014 clusters with 10 clusters populated\n",
      "In stage 13: transferred 951 clusters with 10 clusters populated\n",
      "In stage 14: transferred 1001 clusters with 10 clusters populated\n",
      "In stage 15: transferred 980 clusters with 10 clusters populated\n",
      "In stage 16: transferred 949 clusters with 10 clusters populated\n",
      "In stage 17: transferred 934 clusters with 10 clusters populated\n",
      "In stage 18: transferred 926 clusters with 10 clusters populated\n",
      "In stage 19: transferred 913 clusters with 10 clusters populated\n"
     ]
    }
   ],
   "source": [
    "mgp = MovieGroupProcess(**params)\n",
    "vocab = set(word for tweet in df.Tokens for word in tweet)\n",
    "n_terms = len(vocab)\n",
    "y = mgp.fit(df.Tokens, n_terms)\n"
   ]
  },
  {
   "cell_type": "code",
   "execution_count": 43,
   "id": "52a780f8-672b-4d38-837b-9ccc0d0ca03b",
   "metadata": {},
   "outputs": [
    {
     "name": "stdout",
     "output_type": "stream",
     "text": [
      "Number of documents per topic : [1225 1126 1309 2029  127  933  612  640 1477  210]\n",
      "********************\n",
      "Most important clusters (by number of docs inside): [3 8 2 0 1 5 7 6 9 4]\n",
      "********************\n",
      "Cluster 0 : [('anni', 219), ('oggi', 153), ('grazie', 146), ('vita', 146), ('grande', 123), ('sempre', 112), ('🇮🇹', 104), ('️', 94), ('abbraccio', 88), ('stato', 88)]\n",
      " — — — — — — — — —\n",
      "Cluster 1 : [('governo', 220), ('scuola', 140), ('ministro', 136), ('azzolina', 127), ('banchi', 100), ('oggi', 87), ('milioni', 82), ('insegnanti', 81), ('scuole', 81), ('studenti', 78)]\n",
      " — — — — — — — — —\n",
      "Cluster 2 : [('governo', 393), ('clandestini', 211), ('sbarchi', 206), ('immigrati', 146), ('porti', 135), ('ministro', 131), ('confini', 120), ('paese', 119), ('italia', 118), ('sicurezza', 115)]\n",
      " — — — — — — — — —\n",
      "Cluster 3 : [('governo', 647), ('lavoro', 225), ('conte', 185), ('tasse', 165), ('imprese', 164), ('italiani', 158), ('oggi', 150), ('milioni', 147), ('senza', 138), ('paese', 134)]\n",
      " — — — — — — — — —\n",
      "Cluster 4 : [('de', 175), ('et', 83), ('à', 55), ('les', 53), ('pour', 49), ('en', 48), ('avec', 34), ('des', 30), ('qui', 29), ('que', 28)]\n",
      " — — — — — — — — —\n",
      "Cluster 5 : [('lavoro', 128), ('oggi', 95), ('🇮🇹', 84), ('grazie', 81), ('governo', 78), ('buon', 71), ('sindaco', 69), ('anni', 66), ('lega', 65), ('cittadini', 62)]\n",
      " — — — — — — — — —\n",
      "Cluster 6 : [('sinistra', 79), ('solidarietà', 62), ('libertà', 48), ('essere', 47), ('parole', 42), ('governo', 39), ('oggi', 36), ('parte', 34), ('sempre', 34), ('pescatori', 34)]\n",
      " — — — — — — — — —\n",
      "Cluster 7 : [('oggi', 83), ('governo', 61), ('parlamento', 45), ('presidente', 43), ('ora', 42), ('conte', 41), ('mondo', 38), ('solo', 35), ('politica', 34), ('democrazia', 33)]\n",
      " — — — — — — — — —\n",
      "Cluster 8 : [('amici', 415), ('diretta', 336), ('live', 287), ('grazie', 207), ('buona', 165), ('️', 160), ('🇮🇹', 138), ('oggi', 129), ('piazza', 127), ('ora', 118)]\n",
      " — — — — — — — — —\n",
      "Cluster 9 : [('the', 246), ('and', 158), ('of', 122), ('to', 122), ('for', 75), ('with', 66), ('on', 61), ('our', 60), ('is', 54), ('we', 53)]\n",
      " — — — — — — — — —\n"
     ]
    }
   ],
   "source": [
    "model_info(mgp)"
   ]
  },
  {
   "cell_type": "code",
   "execution_count": 44,
   "id": "acc0274e-e5c8-4c5c-b02c-70b766d3e517",
   "metadata": {},
   "outputs": [
    {
     "name": "stdout",
     "output_type": "stream",
     "text": [
      "Model saved: models/K10a01b01i20-0.model\n"
     ]
    }
   ],
   "source": [
    "save_mgp(mgp, 0)"
   ]
  },
  {
   "cell_type": "code",
   "execution_count": 137,
   "id": "8193b8ab-e562-4e92-9d85-8c94b5b05f89",
   "metadata": {},
   "outputs": [],
   "source": [
    "topic_names = [\n",
    "    \"Solidarietà\",\n",
    "    \"Scuola\",\n",
    "    \"Porti, confini e immigrazione\",\n",
    "    \"Lavoro, tasse e imprese\",\n",
    "    \"Tweet in Francese\",\n",
    "    \"UE\",\n",
    "    \"Rumore\",\n",
    "    \"Politica e istituzioni\",\n",
    "    \"Comizi, dirette social, interventi TV\",\n",
    "    \"Tweet in Inglese\",\n",
    "]\n",
    "doc_count = np.array(mgp.cluster_doc_count)\n",
    "topic_indices = np.arange(start=0, stop=len(doc_count), step=1)\n",
    "topic_dict = set_topic_names(topic_names, topic_indices)"
   ]
  },
  {
   "cell_type": "code",
   "execution_count": 138,
   "id": "5ee22f74-776f-45d9-8479-e11baebbf47d",
   "metadata": {},
   "outputs": [
    {
     "data": {
      "text/plain": [
       "{0: 'Solidarietà',\n",
       " 1: 'Scuola',\n",
       " 2: 'Porti, confini e immigrazione',\n",
       " 3: 'Lavoro, tasse e imprese',\n",
       " 4: 'Tweet in Francese',\n",
       " 5: 'UE',\n",
       " 6: 'Rumore',\n",
       " 7: 'Politica e istituzioni',\n",
       " 8: 'Comizi, dirette social, interventi TV',\n",
       " 9: 'Tweet in Inglese'}"
      ]
     },
     "execution_count": 138,
     "metadata": {},
     "output_type": "execute_result"
    }
   ],
   "source": [
    "topic_dict"
   ]
  },
  {
   "cell_type": "code",
   "execution_count": 139,
   "id": "1f276ed1-0443-4fb8-864f-eb7bcd8d5024",
   "metadata": {},
   "outputs": [],
   "source": [
    "def get_topic(doc, topic_dict=topic_dict):\n",
    "    \"\"\"returns topic\"\"\"\n",
    "    topic, score = mgp.choose_best_label(doc)\n",
    "    return topic_dict[int(topic)]\n",
    "df['Topic'] = df['Tokens'].map(get_topic)"
   ]
  },
  {
   "cell_type": "code",
   "execution_count": 186,
   "id": "1bc21da0-2890-4739-87a8-65ccd3a79560",
   "metadata": {
    "collapsed": true,
    "jupyter": {
     "outputs_hidden": true
    },
    "tags": []
   },
   "outputs": [
    {
     "name": "stdout",
     "output_type": "stream",
     "text": [
      "7000\n",
      "Fino a quando rimarrà il \"signor\" Morra, personaggio arrogante che ha infangato la memoria di Jole Santelli e insultato milioni di malati e le loro famiglie, i parlamentari di Lega e centrodestra non parteciperanno ai lavori della Commissione antimafia. #Morradimettiti \n",
      " Scuola \n",
      " 7000\n",
      "\n",
      "Tra poco, verso le 8.35, mi collego con @RadioCapital_fm.  Buona settimana, Amici 👋🏻  https://t.co/sfJR2LA1ck \n",
      " Comizi, dirette social, interventi TV \n",
      " 7001\n",
      "\n",
      "@BrunoVespa: \"Ristori? Perché non abbiamo copiato la Germania? Hanno dato il 75% del fatturato perso. Il fatto che in Italia ci siano categorie dimenticate è imbarazzante\".  #vociitaliane  https://t.co/zw7O8k3Y2I \n",
      " Lavoro, tasse e imprese \n",
      " 7002\n",
      "\n",
      "#Salvini: Lo chiedo al ministro Azzolina: invece di andare a comprare i banchi con le rotelle si occupasse di stabilizzare insegnanti di sostegno precari, perché quando si tornerà a scuola non ci siano bimbi dimenticati. #MaurizioCostanzoShow \n",
      " Scuola \n",
      " 7003\n",
      "\n",
      "#Salvini: Chiedo al governo di convocare i sindacati perché non possiamo permettere uno sciopero del pubblico impiego. È l'ultima delle cose che gli italiani capirebbero. Quindi il governo ascolti, incontri e risolva il problema. #MaurizioCostanzoShow \n",
      " Lavoro, tasse e imprese \n",
      " 7004\n",
      "\n",
      "#Salvini: Morra. Attacco indegno a Jole #Santelli, donna forte che ha combattuto fino all'ultimo giorno per la sua terra. Chiunque si dovrebbe sciacquare la bocca quando parla di malati di tumore, non sono da rottamare. Chi lo pensa è un piccolo uomo. #MaurizioCostanzoShow \n",
      " Solidarietà \n",
      " 7005\n",
      "\n",
      "#Salvini: Rispettare le distanze, le regole e le mascherine è fondamentale, però non bisogna rovinare un'intera generazione educando alla paura e al terrore, altrimenti si farebbe un errore irrecuperabile. #MaurizioCostanzoShow  https://t.co/O0n4uBEeLm \n",
      " Lavoro, tasse e imprese \n",
      " 7006\n",
      "\n",
      "#Salvini: Natale. Nessuno pensa ai cenoni con 200 persone, però poter rivedere i famigliari e poter tornare a casa, anche da fuori regione, pur con le dovute cautele, penso che si possa fare. #MaurizioCostanzoShow \n",
      " Lavoro, tasse e imprese \n",
      " 7007\n",
      "\n",
      "#Salvini: Mi auguro che sia il Natale dei bambini e delle famiglie. Mi rifiuto di pensare al 25 dicembre via Skype o via Zoom. #mauriziocostanzoshow \n",
      " Lavoro, tasse e imprese \n",
      " 7008\n",
      "\n",
      "#Salvini: Penso che i negozi e botteghe chiuse non debbano pagare Imu. Penso all'esenzione canone Rai per tutte attività commerciali chiuse e danneggiate. Si tolga alle famiglie almeno la preoccupazione delle cartelle esattoriali. #mauriziocostanzoshow \n",
      " Lavoro, tasse e imprese \n",
      " 7009\n",
      "\n",
      "#Salvini: Servono tamponi a casa, terapie a domicilio. Serve sostegno economico vero, reale, diretto alle attività chiuse. #mauriziocostanzoshow  https://t.co/fZuMKg9Bus \n",
      " Lavoro, tasse e imprese \n",
      " 7010\n",
      "\n",
      "... alla fine dell'emergenza sanitaria e il beneficio del congedo per tutti i genitori con figli disabili, anche se uno dei due non lavora. In questo momento così difficile il governo e la politica hanno il dovere di non lasciare indietro nessuno. \n",
      " Lavoro, tasse e imprese \n",
      " 7011\n",
      "\n",
      "Le persone fragili o con esigenze speciali, chi ha più difficoltà e le loro famiglie sono sempre dimenticati. La Lega aveva istituito il ministero per le Disabilità, poi purtroppo cancellato. Ora si batte in Parlamento per sostenere i caregiver, con un bonus di 600 euro fino... \n",
      " Scuola \n",
      " 7012\n",
      "\n",
      "E quando guardo mio figlio di traverso non ho bisogno nemmeno di cercarle sulle sue spalle. Perché so che ci sono. Le sue ali bellissime, lievi, perfette. Anche se gli altri non possono vederle”. Un gesto meraviglioso che scalda il cuore ❤️ \n",
      " Solidarietà \n",
      " 7013\n",
      "\n",
      "Matteo, 29 anni, decide di farsi ricoverare per non lasciare solo lo zio Paolo, affetto da sindrome di Down e in condizioni molto serie per infezione da Covid. Scrive la mamma di Matteo: “Non si nasce angeli, ma è possibile diventarlo. Ora lo so.  https://t.co/NWaLk2RGgn \n",
      " Solidarietà \n",
      " 7014\n",
      "\n",
      "Amici, se siete nottambuli verso le 23.30 sarò su Canale 5 al #MaurizioCostanzoShow. E magari dopo ci salutiamo in un live Instagram notturno. Comunque, buonanotte e un abbraccio a tutti voi. @Costanzo  https://t.co/iLV8bJOXOv \n",
      " Comizi, dirette social, interventi TV \n",
      " 7015\n",
      "\n",
      "Con tutto il rispetto per un dirigente della sanità di Zingaretti, la Lega continua a ritenere che la scelta migliore per la #Calabria sia quella di un manager o di un medico calabrese, che già conosce la realtà da risanare.   https://t.co/bx8ZWZzxQG \n",
      " Scuola \n",
      " 7016\n",
      "\n",
      "AVANTI VERSO UNA GRANDE FEDERAZIONE DEL CENTRODESTRA, UNITI SI VINCE E SI AIUTA L’ITALIA 🇮🇹 Superiamo distanze e mettiamo insieme idee e valori, per fare tutti insieme il bene del Paese. \n",
      " UE \n",
      " 7017\n",
      "\n",
      "La salute prima di tutto, ma i sacrifici siano di tutti. Vietare lo sci in Italia e permetterlo in Austria, Francia, Germania o Svizzera? @Bernabobocca (@federalberghi): \"Questa UE serve solo per le sanzioni o anche per avere delle politiche comuni?”. È una domanda che condivido. \n",
      " Lavoro, tasse e imprese \n",
      " 7018\n",
      "\n",
      "Roma, @BrumottiStar accolto da minacce di morte al supermarket della droga. Spaccio, illegalità, clandestinità, mafie: l'Italia ha bisogno di TOLLERANZA ZERO, il governo smantella i Decreti sicurezza. Il buonismo è il male di questo Paese.  https://t.co/Q6ktEASMNs \n",
      " Porti, confini e immigrazione \n",
      " 7019\n",
      "\n",
      "MONIA PETRENI, PRESIDENTE DEL COMITATO \"COMMERCIANTI UNITI\": \"CONTE NON CI RISPONDE? ANDREMO DA LUI. VOGLIAMO LAVORARE! SIAMO STATI ABBANDONATI\".  #vociitaliane  https://t.co/He7eZIHa4Y \n",
      " Lavoro, tasse e imprese \n",
      " 7020\n",
      "\n",
      "Anche oggi in Parlamento affermazioni disgustose da parte di esponenti 5Stelle a sostegno del \"signor\" Morra: è così difficile rispettare la memoria di una persona che non c'è più? \n",
      " Scuola \n",
      " 7021\n",
      "\n",
      "Belle parole del procuratore Gratteri che difende l'onore di una grande calabrese: \"Jole #Santelli era una persona onesta e perbene, il suo nome mai in una intercettazione. Morra? Ha sbagliato\".  https://t.co/hiKsNlst2Z \n",
      " Solidarietà \n",
      " 7022\n",
      "\n",
      "Giù le mani da chiese e monasteri in #NagornoKarabakh: rischia di essere cancellata ogni traccia di identità cristiana e storia millenaria. Ci appelliamo a Onu e Azerbaigian affinché tutelino il Popolo Armeno fermando l’arroganza turca e impedendo un nuovo genocidio culturale 🇦🇲 \n",
      " Rumore \n",
      " 7023\n",
      "\n",
      "#Salvini: Per Roma non basta il sindaco, serve una squadra. Tra i tanti incontrati, Bertolaso è quello che più mi ha convinto. Il suo storico impegno è noto, in ultimi mesi l'ho sentito per l'ospedale in Fiera a Milano, lo chiamano in tutta Italia, è un uomo del fare. #radioradio  https://t.co/OerQl0s4IM \n",
      " Scuola \n",
      " 7024\n",
      "\n",
      "#Salvini: Piste da sci. Se situazione tornasse sotto controllo e tutti i Paesi confinanti aprissero e noi non lo facessimo, IN SICUREZZA, non sarebbe una mossa intelligente. Serve coordinamento europeo. #radioradio \n",
      " UE \n",
      " 7025\n",
      "\n",
      "#Salvini: Dopo tre settimane il governo non ha ancora trovato un commissario per la Sanità in #Calabria. Ma vi pare normale? Ora siamo al quinto tentativo... I cittadini calabresi meritano un po' di rispetto in più. #radioradio \n",
      " Scuola \n",
      " 7026\n",
      "\n",
      "#Salvini: #Amazon? Io sono per il \"Made in Italy\". Io non critico l'azienda in sé, ma la competizione sleale. Non sono contro il \"Futuro\", ma sono per accoglierlo e \"normarlo\", anche per tutelare imprese italiane. #radioradio \n",
      " Lavoro, tasse e imprese \n",
      " 7027\n",
      "\n",
      "#Salvini: \"Federazione\" significa andare in Parlamento avendo più forza, per rispondere ai problemi reali degli italiani che ora sono Salute e Lavoro. Unico gruppo parlamentare del centrodestra? Perché no. #radioradio \n",
      " Lavoro, tasse e imprese \n",
      " 7028\n",
      "\n",
      "#Salvini: Come Lega proponiamo l'azzeramento dell'Iva sui generi alimentari più diffusi. Per molte famiglie di questi tempi fare la spesa non è semplice. Sarebbe aiuto concreto. #radioradio \n",
      " Lavoro, tasse e imprese \n",
      " 7029\n",
      "\n"
     ]
    }
   ],
   "source": [
    "# 999 'Politica e istituzioni'\n",
    "# 8390 503 'Solidarietà'\n",
    "# 225 'Lavoro, tasse e imprese'\n",
    "# 504 'Tweet in Francese'\n",
    "# 505 'Scuola'\n",
    "# 537 'Tweet in Inglese'\n",
    "# 7015 ' Comizi, dirette social, interventi TV'\n",
    "x=7000\n",
    "print(x)\n",
    "for x in range(x, x+30):\n",
    "    print(df.Tweet[x],'\\n', df.Topic[x], '\\n',x)\n",
    "    print()\n",
    "    "
   ]
  },
  {
   "cell_type": "code",
   "execution_count": 188,
   "id": "ad906865-a155-412b-a289-2274e462b98b",
   "metadata": {},
   "outputs": [],
   "source": [
    "df.to_json('data/brokenmirror-def.json')"
   ]
  },
  {
   "cell_type": "code",
   "execution_count": 5,
   "id": "19f3320e-8e13-4bed-aa5f-c8b8e95b6fa1",
   "metadata": {},
   "outputs": [],
   "source": [
    "df = pd.read_json('data/brokenmirror-def.json')"
   ]
  },
  {
   "cell_type": "code",
   "execution_count": 67,
   "id": "13f2aa33-0260-4277-8590-acd3b212a388",
   "metadata": {},
   "outputs": [],
   "source": [
    "topic_count = df.groupby(['Username','Topic']).size().to_frame(name='count').reset_index()\n",
    "C_n = len(df[df['Username'] == 'C'])\n",
    "L_n = len(df[df['Username'] == 'L'])\n",
    "S_n = len(df[df['Username'] == 'S'])\n",
    "M_n = len(df[df['Username'] == 'M'])\n"
   ]
  },
  {
   "cell_type": "code",
   "execution_count": null,
   "id": "5d536b1a-2dee-483e-aa5e-8f03c7a2884f",
   "metadata": {},
   "outputs": [],
   "source": []
  },
  {
   "cell_type": "code",
   "execution_count": 80,
   "id": "d32c19e0-6eaf-470a-9faa-c090a7293de6",
   "metadata": {},
   "outputs": [],
   "source": [
    "def func(count,condition):\n",
    "    div = dict(zip(['C', 'L', 'S', 'M'], [C_n,L_n,S_n,M_n]))\n",
    "    return count / div[condition]\n",
    "\n",
    "topic_count['perc'] = topic_count.apply(lambda x: func(x['count'], x['Username']), axis=1)"
   ]
  },
  {
   "cell_type": "code",
   "execution_count": null,
   "id": "c81a6ca2-776d-4062-bc1f-2c8aa7bb3f68",
   "metadata": {},
   "outputs": [],
   "source": []
  },
  {
   "cell_type": "code",
   "execution_count": 421,
   "id": "48371365-a375-453d-9c15-c7a559ba7ca3",
   "metadata": {},
   "outputs": [],
   "source": [
    "import matplotlib.pyplot as plt\n",
    "from matplotlib import cm\n",
    "cmap = cm.get_cmap('tab20c')\n",
    "colors = []\n",
    "for i in range(cmap.N):\n",
    "    rgb = cmap(i)\n",
    "    colors.append(rgb)\n",
    "\n",
    "labels = df.Topic.unique()\n",
    "colordict = dict(zip(labels, colors))"
   ]
  },
  {
   "cell_type": "code",
   "execution_count": null,
   "id": "b3bbd011-324f-4a96-9b24-8580b4b804d1",
   "metadata": {},
   "outputs": [],
   "source": []
  },
  {
   "cell_type": "code",
   "execution_count": 364,
   "id": "275c78ac-3888-454b-a30f-5e2a1150b394",
   "metadata": {},
   "outputs": [],
   "source": [
    "\n",
    "def topic_chart(username):\n",
    "    u = username[0].upper()\n",
    "    # Data to plot\n",
    "    # Take the information from the segment and label columns and join them into one string\n",
    "    labels = topic_count[topic_count['Username'] == u][['Topic', 'perc']]['Topic']\n",
    "    # Extract the sizes of the segments\n",
    "    sizes = topic_count[topic_count['Username'] == u][['Topic', 'perc']]['perc']\n",
    "    # Plot with labels and percentage\n",
    "    plt.title(f'Topic distribution – {username}')\n",
    "    plt.pie(sizes, labels=labels, colors=colors, autopct='%1.1f%%', pctdistance=0.6)\n",
    "    centre_circle = plt.Circle((0,0),0.65,fc='white')\n",
    "    fig = plt.gcf()\n",
    "    fig.gca().add_artist(centre_circle)\n",
    "    plt.savefig(f'plots/topic-{username}.png')\n",
    "    plt.show()"
   ]
  },
  {
   "cell_type": "code",
   "execution_count": 365,
   "id": "fd85ac3b-195f-4f70-8af0-5d10a8189eb6",
   "metadata": {},
   "outputs": [
    {
     "data": {
      "image/png": "[encoded data removed]",
      "text/plain": [
       "<Figure size 432x288 with 1 Axes>"
      ]
     },
     "metadata": {},
     "output_type": "display_data"
    }
   ],
   "source": [
    "topic_chart('Letta')"
   ]
  },
  {
   "cell_type": "code",
   "execution_count": 345,
   "id": "58c869c8-4d07-4eb9-aca6-b92758e0a237",
   "metadata": {},
   "outputs": [],
   "source": [
    "import datetime\n",
    "def get_timerange(date, delta):\n",
    "    date = pd.to_datetime(date)\n",
    "    start_date = date - datetime.timedelta(days=delta)\n",
    "    end_date = date + datetime.timedelta(days=delta)\n",
    "    return (start_date, date), (date, end_date)"
   ]
  },
  {
   "cell_type": "code",
   "execution_count": null,
   "id": "e3b888f8-5e2f-423d-bf95-fa48538f926c",
   "metadata": {},
   "outputs": [],
   "source": []
  },
  {
   "cell_type": "code",
   "execution_count": 430,
   "id": "f33d8332-fef4-40e1-9656-7d3dba3cd9c7",
   "metadata": {},
   "outputs": [],
   "source": [
    "\n",
    "def chart_with_date(date, username, delta=7):\n",
    "    dates = get_timerange(date, delta)\n",
    "    \n",
    "    df1 = df[(df['Date'] >= dates[0][0]) & (df['Date'] <= dates[0][1])]\n",
    "    df2 = df[(df['Date'] >= dates[1][0]) & (df['Date'] <= dates[1][1])]\n",
    "    topic_count1 = df1.groupby(['Username','Topic']).size().to_frame(name='count').reset_index()\n",
    "    C_n = len(df1[df1['Username'] == 'C'])\n",
    "    L_n = len(df1[df1['Username'] == 'L'])\n",
    "    S_n = len(df1[df1['Username'] == 'S'])\n",
    "    M_n = len(df1[df1['Username'] == 'M'])\n",
    "    f = lambda x,y: x / dict(zip(['C', 'L', 'S', 'M'], [C_n,L_n,S_n,M_n]))[y]\n",
    "    topic_count1['perc'] = topic_count1.apply(lambda x: f(x['count'], x['Username']), axis=1)\n",
    "    \n",
    "    topic_count2 = df2.groupby(['Username','Topic']).size().to_frame(name='count').reset_index()\n",
    "    C_n = len(df2[df2['Username'] == 'C'])\n",
    "    L_n = len(df2[df2['Username'] == 'L'])\n",
    "    S_n = len(df2[df2['Username'] == 'S'])\n",
    "    M_n = len(df2[df2['Username'] == 'M'])\n",
    "    f = lambda x,y: x / dict(zip(['C', 'L', 'S', 'M'], [C_n,L_n,S_n,M_n]))[y]\n",
    "    topic_count2['perc'] = topic_count2.apply(lambda x: f(x['count'], x['Username']), axis=1)\n",
    "    \n",
    "    u = username[0].upper()\n",
    "    \n",
    "    fig, axs = plt.subplots(1, 2, figsize=(20, 12))\n",
    "    plt.suptitle(f'{username} – {date} — delta:{delta}')\n",
    "    \n",
    "    cmap = cm.get_cmap('tab20c')\n",
    "    colors = []\n",
    "    for i in range(cmap.N):\n",
    "        rgb = cmap(i)\n",
    "        colors.append(rgb)\n",
    "    \n",
    "    labels = df.Topic.unique()\n",
    "    colordict = dict(zip(labels, colors))\n",
    "    \n",
    "    \n",
    "    sizes = topic_count1[topic_count1['Username'] == u][['Topic', 'perc']]['perc']\n",
    "\n",
    "    axs[0].pie(sizes, colors=[colordict[key] for key in labels], autopct='%1.1f%%', pctdistance=0.6)\n",
    "    axs[0].set_title('Before')\n",
    "    \n",
    "    sizes = topic_count2[topic_count2['Username'] == u][['Topic', 'perc']]['perc']\n",
    "    axs[1].pie(sizes, colors=[colordict[key] for key in labels], autopct='%1.1f%%', pctdistance=0.6)\n",
    "    axs[1].set_title('After')\n",
    "\n",
    "    \n",
    "    \n",
    "    fig.tight_layout()\n",
    "        \n",
    "    for k, v in colordict.items():\n",
    "        if k in set(list(topic_count1[topic_count1['Username'] == u]['Topic']) + list(topic_count2[topic_count2['Username'] == u]['Topic'])):\n",
    "            axs[1].scatter([],[], color=v, label=k)\n",
    "            axs[1].legend(loc='upper right')\n",
    "    #plt.savefig(f'plots/{username}_{date}_{delta}.png')\n",
    "    plt.show()\n",
    "    "
   ]
  },
  {
   "cell_type": "code",
   "execution_count": 431,
   "id": "b111af54-75b6-4c96-8efa-65f0d6448dd1",
   "metadata": {},
   "outputs": [
    {
     "ename": "ValueError",
     "evalue": "shape mismatch: objects cannot be broadcast to a single shape",
     "output_type": "error",
     "traceback": [
      "\u001b[0;31m---------------------------------------------------------------------------\u001b[0m",
      "\u001b[0;31mValueError\u001b[0m                                Traceback (most recent call last)",
      "\u001b[0;32m<ipython-input-431-2c28a06a83df>\u001b[0m in \u001b[0;36m<module>\u001b[0;34m\u001b[0m\n\u001b[1;32m      9\u001b[0m \u001b[0;32mfor\u001b[0m \u001b[0mtup\u001b[0m \u001b[0;32min\u001b[0m \u001b[0minteresting_dates\u001b[0m\u001b[0;34m:\u001b[0m\u001b[0;34m\u001b[0m\u001b[0;34m\u001b[0m\u001b[0m\n\u001b[1;32m     10\u001b[0m     \u001b[0;32mfor\u001b[0m \u001b[0md\u001b[0m \u001b[0;32min\u001b[0m \u001b[0;34m[\u001b[0m\u001b[0;36m7\u001b[0m\u001b[0;34m,\u001b[0m \u001b[0;36m10\u001b[0m\u001b[0;34m,\u001b[0m \u001b[0;36m15\u001b[0m\u001b[0;34m,\u001b[0m \u001b[0;36m30\u001b[0m\u001b[0;34m,\u001b[0m \u001b[0;36m60\u001b[0m\u001b[0;34m]\u001b[0m\u001b[0;34m:\u001b[0m\u001b[0;34m\u001b[0m\u001b[0;34m\u001b[0m\u001b[0m\n\u001b[0;32m---> 11\u001b[0;31m         \u001b[0mchart_with_date\u001b[0m\u001b[0;34m(\u001b[0m\u001b[0mtup\u001b[0m\u001b[0;34m[\u001b[0m\u001b[0;36m0\u001b[0m\u001b[0;34m]\u001b[0m\u001b[0;34m,\u001b[0m \u001b[0mtup\u001b[0m\u001b[0;34m[\u001b[0m\u001b[0;36m1\u001b[0m\u001b[0;34m]\u001b[0m\u001b[0;34m,\u001b[0m \u001b[0mdelta\u001b[0m\u001b[0;34m=\u001b[0m\u001b[0md\u001b[0m\u001b[0;34m)\u001b[0m\u001b[0;34m\u001b[0m\u001b[0;34m\u001b[0m\u001b[0m\n\u001b[0m",
      "\u001b[0;32m<ipython-input-430-7a834c637b23>\u001b[0m in \u001b[0;36mchart_with_date\u001b[0;34m(date, username, delta)\u001b[0m\n\u001b[1;32m     37\u001b[0m     \u001b[0msizes\u001b[0m \u001b[0;34m=\u001b[0m \u001b[0mtopic_count1\u001b[0m\u001b[0;34m[\u001b[0m\u001b[0mtopic_count1\u001b[0m\u001b[0;34m[\u001b[0m\u001b[0;34m'Username'\u001b[0m\u001b[0;34m]\u001b[0m \u001b[0;34m==\u001b[0m \u001b[0mu\u001b[0m\u001b[0;34m]\u001b[0m\u001b[0;34m[\u001b[0m\u001b[0;34m[\u001b[0m\u001b[0;34m'Topic'\u001b[0m\u001b[0;34m,\u001b[0m \u001b[0;34m'perc'\u001b[0m\u001b[0;34m]\u001b[0m\u001b[0;34m]\u001b[0m\u001b[0;34m[\u001b[0m\u001b[0;34m'perc'\u001b[0m\u001b[0;34m]\u001b[0m\u001b[0;34m\u001b[0m\u001b[0;34m\u001b[0m\u001b[0m\n\u001b[1;32m     38\u001b[0m \u001b[0;34m\u001b[0m\u001b[0m\n\u001b[0;32m---> 39\u001b[0;31m     \u001b[0maxs\u001b[0m\u001b[0;34m[\u001b[0m\u001b[0;36m0\u001b[0m\u001b[0;34m]\u001b[0m\u001b[0;34m.\u001b[0m\u001b[0mbar\u001b[0m\u001b[0;34m(\u001b[0m\u001b[0mrange\u001b[0m\u001b[0;34m(\u001b[0m\u001b[0mlen\u001b[0m\u001b[0;34m(\u001b[0m\u001b[0mdf\u001b[0m\u001b[0;34m.\u001b[0m\u001b[0mTopic\u001b[0m\u001b[0;34m.\u001b[0m\u001b[0munique\u001b[0m\u001b[0;34m(\u001b[0m\u001b[0;34m)\u001b[0m\u001b[0;34m)\u001b[0m\u001b[0;34m)\u001b[0m\u001b[0;34m,\u001b[0m \u001b[0msizes\u001b[0m\u001b[0;34m,\u001b[0m \u001b[0mcolors\u001b[0m\u001b[0;34m=\u001b[0m\u001b[0;34m[\u001b[0m\u001b[0mcolordict\u001b[0m\u001b[0;34m[\u001b[0m\u001b[0mkey\u001b[0m\u001b[0;34m]\u001b[0m \u001b[0;32mfor\u001b[0m \u001b[0mkey\u001b[0m \u001b[0;32min\u001b[0m \u001b[0mlabels\u001b[0m\u001b[0;34m]\u001b[0m\u001b[0;34m,\u001b[0m \u001b[0mautopct\u001b[0m\u001b[0;34m=\u001b[0m\u001b[0;34m'%1.1f%%'\u001b[0m\u001b[0;34m,\u001b[0m \u001b[0mpctdistance\u001b[0m\u001b[0;34m=\u001b[0m\u001b[0;36m0.6\u001b[0m\u001b[0;34m)\u001b[0m\u001b[0;34m\u001b[0m\u001b[0;34m\u001b[0m\u001b[0m\n\u001b[0m\u001b[1;32m     40\u001b[0m     \u001b[0maxs\u001b[0m\u001b[0;34m[\u001b[0m\u001b[0;36m0\u001b[0m\u001b[0;34m]\u001b[0m\u001b[0;34m.\u001b[0m\u001b[0mset_title\u001b[0m\u001b[0;34m(\u001b[0m\u001b[0;34m'Before'\u001b[0m\u001b[0;34m)\u001b[0m\u001b[0;34m\u001b[0m\u001b[0;34m\u001b[0m\u001b[0m\n\u001b[1;32m     41\u001b[0m \u001b[0;34m\u001b[0m\u001b[0m\n",
      "\u001b[0;32m~/opt/anaconda3/lib/python3.8/site-packages/matplotlib/__init__.py\u001b[0m in \u001b[0;36minner\u001b[0;34m(ax, data, *args, **kwargs)\u001b[0m\n\u001b[1;32m   1445\u001b[0m     \u001b[0;32mdef\u001b[0m \u001b[0minner\u001b[0m\u001b[0;34m(\u001b[0m\u001b[0max\u001b[0m\u001b[0;34m,\u001b[0m \u001b[0;34m*\u001b[0m\u001b[0margs\u001b[0m\u001b[0;34m,\u001b[0m \u001b[0mdata\u001b[0m\u001b[0;34m=\u001b[0m\u001b[0;32mNone\u001b[0m\u001b[0;34m,\u001b[0m \u001b[0;34m**\u001b[0m\u001b[0mkwargs\u001b[0m\u001b[0;34m)\u001b[0m\u001b[0;34m:\u001b[0m\u001b[0;34m\u001b[0m\u001b[0;34m\u001b[0m\u001b[0m\n\u001b[1;32m   1446\u001b[0m         \u001b[0;32mif\u001b[0m \u001b[0mdata\u001b[0m \u001b[0;32mis\u001b[0m \u001b[0;32mNone\u001b[0m\u001b[0;34m:\u001b[0m\u001b[0;34m\u001b[0m\u001b[0;34m\u001b[0m\u001b[0m\n\u001b[0;32m-> 1447\u001b[0;31m             \u001b[0;32mreturn\u001b[0m \u001b[0mfunc\u001b[0m\u001b[0;34m(\u001b[0m\u001b[0max\u001b[0m\u001b[0;34m,\u001b[0m \u001b[0;34m*\u001b[0m\u001b[0mmap\u001b[0m\u001b[0;34m(\u001b[0m\u001b[0msanitize_sequence\u001b[0m\u001b[0;34m,\u001b[0m \u001b[0margs\u001b[0m\u001b[0;34m)\u001b[0m\u001b[0;34m,\u001b[0m \u001b[0;34m**\u001b[0m\u001b[0mkwargs\u001b[0m\u001b[0;34m)\u001b[0m\u001b[0;34m\u001b[0m\u001b[0;34m\u001b[0m\u001b[0m\n\u001b[0m\u001b[1;32m   1448\u001b[0m \u001b[0;34m\u001b[0m\u001b[0m\n\u001b[1;32m   1449\u001b[0m         \u001b[0mbound\u001b[0m \u001b[0;34m=\u001b[0m \u001b[0mnew_sig\u001b[0m\u001b[0;34m.\u001b[0m\u001b[0mbind\u001b[0m\u001b[0;34m(\u001b[0m\u001b[0max\u001b[0m\u001b[0;34m,\u001b[0m \u001b[0;34m*\u001b[0m\u001b[0margs\u001b[0m\u001b[0;34m,\u001b[0m \u001b[0;34m**\u001b[0m\u001b[0mkwargs\u001b[0m\u001b[0;34m)\u001b[0m\u001b[0;34m\u001b[0m\u001b[0;34m\u001b[0m\u001b[0m\n",
      "\u001b[0;32m~/opt/anaconda3/lib/python3.8/site-packages/matplotlib/axes/_axes.py\u001b[0m in \u001b[0;36mbar\u001b[0;34m(self, x, height, width, bottom, align, **kwargs)\u001b[0m\n\u001b[1;32m   2428\u001b[0m                 \u001b[0myerr\u001b[0m \u001b[0;34m=\u001b[0m \u001b[0mself\u001b[0m\u001b[0;34m.\u001b[0m\u001b[0m_convert_dx\u001b[0m\u001b[0;34m(\u001b[0m\u001b[0myerr\u001b[0m\u001b[0;34m,\u001b[0m \u001b[0my0\u001b[0m\u001b[0;34m,\u001b[0m \u001b[0my\u001b[0m\u001b[0;34m,\u001b[0m \u001b[0mself\u001b[0m\u001b[0;34m.\u001b[0m\u001b[0mconvert_yunits\u001b[0m\u001b[0;34m)\u001b[0m\u001b[0;34m\u001b[0m\u001b[0;34m\u001b[0m\u001b[0m\n\u001b[1;32m   2429\u001b[0m \u001b[0;34m\u001b[0m\u001b[0m\n\u001b[0;32m-> 2430\u001b[0;31m         x, height, width, y, linewidth = np.broadcast_arrays(\n\u001b[0m\u001b[1;32m   2431\u001b[0m             \u001b[0;31m# Make args iterable too.\u001b[0m\u001b[0;34m\u001b[0m\u001b[0;34m\u001b[0m\u001b[0;34m\u001b[0m\u001b[0m\n\u001b[1;32m   2432\u001b[0m             np.atleast_1d(x), height, width, y, linewidth)\n",
      "\u001b[0;32m<__array_function__ internals>\u001b[0m in \u001b[0;36mbroadcast_arrays\u001b[0;34m(*args, **kwargs)\u001b[0m\n",
      "\u001b[0;32m~/opt/anaconda3/lib/python3.8/site-packages/numpy/lib/stride_tricks.py\u001b[0m in \u001b[0;36mbroadcast_arrays\u001b[0;34m(subok, *args)\u001b[0m\n\u001b[1;32m    256\u001b[0m     \u001b[0margs\u001b[0m \u001b[0;34m=\u001b[0m \u001b[0;34m[\u001b[0m\u001b[0mnp\u001b[0m\u001b[0;34m.\u001b[0m\u001b[0marray\u001b[0m\u001b[0;34m(\u001b[0m\u001b[0m_m\u001b[0m\u001b[0;34m,\u001b[0m \u001b[0mcopy\u001b[0m\u001b[0;34m=\u001b[0m\u001b[0;32mFalse\u001b[0m\u001b[0;34m,\u001b[0m \u001b[0msubok\u001b[0m\u001b[0;34m=\u001b[0m\u001b[0msubok\u001b[0m\u001b[0;34m)\u001b[0m \u001b[0;32mfor\u001b[0m \u001b[0m_m\u001b[0m \u001b[0;32min\u001b[0m \u001b[0margs\u001b[0m\u001b[0;34m]\u001b[0m\u001b[0;34m\u001b[0m\u001b[0;34m\u001b[0m\u001b[0m\n\u001b[1;32m    257\u001b[0m \u001b[0;34m\u001b[0m\u001b[0m\n\u001b[0;32m--> 258\u001b[0;31m     \u001b[0mshape\u001b[0m \u001b[0;34m=\u001b[0m \u001b[0m_broadcast_shape\u001b[0m\u001b[0;34m(\u001b[0m\u001b[0;34m*\u001b[0m\u001b[0margs\u001b[0m\u001b[0;34m)\u001b[0m\u001b[0;34m\u001b[0m\u001b[0;34m\u001b[0m\u001b[0m\n\u001b[0m\u001b[1;32m    259\u001b[0m \u001b[0;34m\u001b[0m\u001b[0m\n\u001b[1;32m    260\u001b[0m     \u001b[0;32mif\u001b[0m \u001b[0mall\u001b[0m\u001b[0;34m(\u001b[0m\u001b[0marray\u001b[0m\u001b[0;34m.\u001b[0m\u001b[0mshape\u001b[0m \u001b[0;34m==\u001b[0m \u001b[0mshape\u001b[0m \u001b[0;32mfor\u001b[0m \u001b[0marray\u001b[0m \u001b[0;32min\u001b[0m \u001b[0margs\u001b[0m\u001b[0;34m)\u001b[0m\u001b[0;34m:\u001b[0m\u001b[0;34m\u001b[0m\u001b[0;34m\u001b[0m\u001b[0m\n",
      "\u001b[0;32m~/opt/anaconda3/lib/python3.8/site-packages/numpy/lib/stride_tricks.py\u001b[0m in \u001b[0;36m_broadcast_shape\u001b[0;34m(*args)\u001b[0m\n\u001b[1;32m    187\u001b[0m     \u001b[0;31m# use the old-iterator because np.nditer does not handle size 0 arrays\u001b[0m\u001b[0;34m\u001b[0m\u001b[0;34m\u001b[0m\u001b[0;34m\u001b[0m\u001b[0m\n\u001b[1;32m    188\u001b[0m     \u001b[0;31m# consistently\u001b[0m\u001b[0;34m\u001b[0m\u001b[0;34m\u001b[0m\u001b[0;34m\u001b[0m\u001b[0m\n\u001b[0;32m--> 189\u001b[0;31m     \u001b[0mb\u001b[0m \u001b[0;34m=\u001b[0m \u001b[0mnp\u001b[0m\u001b[0;34m.\u001b[0m\u001b[0mbroadcast\u001b[0m\u001b[0;34m(\u001b[0m\u001b[0;34m*\u001b[0m\u001b[0margs\u001b[0m\u001b[0;34m[\u001b[0m\u001b[0;34m:\u001b[0m\u001b[0;36m32\u001b[0m\u001b[0;34m]\u001b[0m\u001b[0;34m)\u001b[0m\u001b[0;34m\u001b[0m\u001b[0;34m\u001b[0m\u001b[0m\n\u001b[0m\u001b[1;32m    190\u001b[0m     \u001b[0;31m# unfortunately, it cannot handle 32 or more arguments directly\u001b[0m\u001b[0;34m\u001b[0m\u001b[0;34m\u001b[0m\u001b[0;34m\u001b[0m\u001b[0m\n\u001b[1;32m    191\u001b[0m     \u001b[0;32mfor\u001b[0m \u001b[0mpos\u001b[0m \u001b[0;32min\u001b[0m \u001b[0mrange\u001b[0m\u001b[0;34m(\u001b[0m\u001b[0;36m32\u001b[0m\u001b[0;34m,\u001b[0m \u001b[0mlen\u001b[0m\u001b[0;34m(\u001b[0m\u001b[0margs\u001b[0m\u001b[0;34m)\u001b[0m\u001b[0;34m,\u001b[0m \u001b[0;36m31\u001b[0m\u001b[0;34m)\u001b[0m\u001b[0;34m:\u001b[0m\u001b[0;34m\u001b[0m\u001b[0;34m\u001b[0m\u001b[0m\n",
      "\u001b[0;31mValueError\u001b[0m: shape mismatch: objects cannot be broadcast to a single shape"
     ]
    },
    {
     "data": {
      "image/png": "[encoded data removed]",
      "text/plain": [
       "<Figure size 1440x864 with 2 Axes>"
      ]
     },
     "metadata": {
      "needs_background": "light"
     },
     "output_type": "display_data"
    }
   ],
   "source": [
    "interesting_dates =[\n",
    "    ('2021-03-14', 'Letta'), \n",
    "    ('2021-01-10', 'Conte'), \n",
    "    ('2020-09-11', 'Salvini'),\n",
    "    ('2021-02-14', 'Salvini'), \n",
    "    ('2021-02-14', 'Meloni')\n",
    "]\n",
    "\n",
    "for tup in interesting_dates:\n",
    "    for d in [7, 10, 15, 30, 60]:\n",
    "        chart_with_date(tup[0], tup[1], delta=d)\n"
   ]
  },
  {
   "cell_type": "code",
   "execution_count": 238,
   "id": "e4965161-bfca-4316-80d1-0139444e2c89",
   "metadata": {},
   "outputs": [
    {
     "data": {
      "text/plain": [
       "(Timestamp('2020-07-01 09:20:27'), Timestamp('2021-06-30 21:54:58'))"
      ]
     },
     "execution_count": 238,
     "metadata": {},
     "output_type": "execute_result"
    }
   ],
   "source": [
    "min(df.Date)"
   ]
  },
  {
   "cell_type": "code",
   "execution_count": null,
   "id": "38427f62-8db4-460c-9d52-6f8d1ae0243e",
   "metadata": {},
   "outputs": [],
   "source": []
  },
  {
   "cell_type": "code",
   "execution_count": null,
   "id": "514900de-0748-4d86-853b-72e08c8c88cd",
   "metadata": {},
   "outputs": [],
   "source": []
  },
  {
   "cell_type": "code",
   "execution_count": null,
   "id": "f6bb981a-af75-42cb-be4e-dacb56a893f0",
   "metadata": {},
   "outputs": [],
   "source": []
  },
  {
   "cell_type": "code",
   "execution_count": null,
   "id": "d9f7c13b-0258-436e-9df4-e38c14ee9dda",
   "metadata": {},
   "outputs": [],
   "source": []
  },
  {
   "cell_type": "code",
   "execution_count": null,
   "id": "08ad11c2-2e29-4040-8e25-939913e682b3",
   "metadata": {},
   "outputs": [],
   "source": []
  },
  {
   "cell_type": "code",
   "execution_count": null,
   "id": "b5c96f4d-82da-481c-a1e0-556022e81399",
   "metadata": {},
   "outputs": [],
   "source": []
  },
  {
   "cell_type": "code",
   "execution_count": null,
   "id": "8b5e0892-e4b5-41d0-a9ca-9c26da43a03c",
   "metadata": {},
   "outputs": [],
   "source": []
  },
  {
   "cell_type": "code",
   "execution_count": null,
   "id": "f40d66a9-ae71-4426-b629-5f90002335f9",
   "metadata": {},
   "outputs": [],
   "source": []
  }
 ],
 "metadata": {
  "kernelspec": {
   "display_name": "Python 3",
   "language": "python",
   "name": "python3"
  },
  "language_info": {
   "codemirror_mode": {
    "name": "ipython",
    "version": 3
   },
   "file_extension": ".py",
   "mimetype": "text/x-python",
   "name": "python",
   "nbconvert_exporter": "python",
   "pygments_lexer": "ipython3",
   "version": "3.8.8"
  }
 },
 "nbformat": 4,
 "nbformat_minor": 5
}
