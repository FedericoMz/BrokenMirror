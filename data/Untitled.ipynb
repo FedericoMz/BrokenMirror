{
 "cells": [
  {
   "cell_type": "code",
   "execution_count": 1,
   "id": "12b60260-8962-4eaa-bde1-e80856fb7556",
   "metadata": {},
   "outputs": [
    {
     "data": {
      "text/plain": [
       "{1: {'date': 2020, 'title': 'Event', 'description': 'an event'},\n",
       " 2: {'date': 2021, 'title': 'Event', 'description': 'an event'},\n",
       " 3: {'date': 2022, 'title': 'Event', 'description': 'an event'},\n",
       " 4: {'date': 2023, 'title': 'Event', 'description': 'an event'}}"
      ]
     },
     "execution_count": 1,
     "metadata": {},
     "output_type": "execute_result"
    }
   ],
   "source": []
  },
  {
   "cell_type": "code",
   "execution_count": 2,
   "id": "fe31698e-387f-4db0-ac89-1139448c3945",
   "metadata": {},
   "outputs": [],
   "source": [
    "import pandas as pd"
   ]
  },
  {
   "cell_type": "code",
   "execution_count": 7,
   "id": "5fdc51f6-2aed-4736-830e-0c6b8b2b26c9",
   "metadata": {},
   "outputs": [],
   "source": [
    "pd.DataFrame({\n",
    "            '1998-01': {\"title\": \"Nascita\", \"description\": \"Sono nata il 31 gennaio del 1998\"},\n",
    "        }).to_json('events.json')"
   ]
  },
  {
   "cell_type": "code",
   "execution_count": null,
   "id": "9b00f065-fc68-4f88-85ea-195c00f0ee41",
   "metadata": {},
   "outputs": [],
   "source": []
  }
 ],
 "metadata": {
  "kernelspec": {
   "display_name": "Python 3",
   "language": "python",
   "name": "python3"
  },
  "language_info": {
   "codemirror_mode": {
    "name": "ipython",
    "version": 3
   },
   "file_extension": ".py",
   "mimetype": "text/x-python",
   "name": "python",
   "nbconvert_exporter": "python",
   "pygments_lexer": "ipython3",
   "version": "3.8.8"
  }
 },
 "nbformat": 4,
 "nbformat_minor": 5
}
